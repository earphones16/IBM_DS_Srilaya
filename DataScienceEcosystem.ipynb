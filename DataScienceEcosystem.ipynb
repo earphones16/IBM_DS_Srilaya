{
  "metadata": {
    "kernelspec": {
      "name": "python",
      "display_name": "Python (Pyodide)",
      "language": "python"
    },
    "language_info": {
      "codemirror_mode": {
        "name": "python",
        "version": 3
      },
      "file_extension": ".py",
      "mimetype": "text/x-python",
      "name": "python",
      "nbconvert_exporter": "python",
      "pygments_lexer": "ipython3",
      "version": "3.8"
    }
  },
  "nbformat_minor": 5,
  "nbformat": 4,
  "cells": [
    {
      "id": "cfb5a873-129b-4f42-8a21-176e764c3468",
      "cell_type": "markdown",
      "source": "<h1> 2. DATA SCIENCE TOOLS AND ECOSYSTEM </h1>",
      "metadata": {}
    },
    {
      "id": "67aa944b-39f8-4a7d-8fea-a783fe2bcfa3",
      "cell_type": "markdown",
      "source": "3. In this notebook, Data Science Tools and Ecosystem are summarized.\n\n",
      "metadata": {}
    },
    {
      "id": "eadb6e36-7f17-4f8f-ab85-401c7ba6c599",
      "cell_type": "markdown",
      "source": "### 4. Some of the popular languages that Data Scientists use are:",
      "metadata": {}
    },
    {
      "id": "eb056cd0-b01f-4a4d-b06f-9fbd157507a4",
      "cell_type": "markdown",
      "source": "1. Python\n2. R\n3. SQL\n4. Java\n5. MATLAB\n6. Scala\n7. Julia",
      "metadata": {}
    },
    {
      "id": "81dd6202-b981-495b-ab84-0bbbb5449eed",
      "cell_type": "markdown",
      "source": "### 5. Some of the commonly used libraries used by Data Scientists include:",
      "metadata": {}
    },
    {
      "id": "7e780232-40a2-4968-9cf0-21657f9b727f",
      "cell_type": "markdown",
      "source": "1. Pandas\n2. NumPy\n3. Scikit-learn\n4. Matplotlib\n5. PyTorch\n6. Seaborn\n7. ggplot2",
      "metadata": {}
    },
    {
      "id": "c4f2d831-aaac-4b68-b639-ae7a502a3dfc",
      "cell_type": "markdown",
      "source": "### 6. Table of commonly used Data Science tools:",
      "metadata": {}
    },
    {
      "id": "ce6cf102-93e9-4a04-bea1-98538fa79251",
      "cell_type": "markdown",
      "source": "| Data Science Tools |\n|--------------------|\n| RStudio            |\n| Jupyter Notebook   |\n| Google Colab       |",
      "metadata": {}
    },
    {
      "id": "cf2afc36-a1f7-4fca-9f1c-8b175a93dccf",
      "cell_type": "markdown",
      "source": "<h3>7. Below are a few examples of evaluating arithmetic expressions in Python</h3>",
      "metadata": {}
    },
    {
      "id": "9e5ef615-4772-4dfc-85ac-83652c879dcb",
      "cell_type": "code",
      "source": "# 8. This a simple arithmetic expression to mutiply then add integers\n(3*4)+5",
      "metadata": {
        "trusted": true
      },
      "outputs": [
        {
          "execution_count": 21,
          "output_type": "execute_result",
          "data": {
            "text/plain": "17"
          },
          "metadata": {}
        }
      ],
      "execution_count": 21
    },
    {
      "id": "89a66962-4ceb-4937-89be-fcf898cc1e8b",
      "cell_type": "code",
      "source": "# 9. This will convert 200 minutes to hours by diving by 60\nminutes = 200\nhours= (minutes/60)\nprint(f\"{minutes} minutes is equal to {hours} hours\")",
      "metadata": {
        "trusted": true
      },
      "outputs": [
        {
          "name": "stdout",
          "output_type": "stream",
          "text": "200 minutes is equal to 3.3333333333333335 hours\n"
        }
      ],
      "execution_count": 23
    },
    {
      "id": "349c5a14-69e9-49d0-b10f-249823264da2",
      "cell_type": "markdown",
      "source": "## <b> 10. LIST OF OBJECTIVES </b>",
      "metadata": {}
    },
    {
      "id": "d655c1ed-e546-4ad5-b255-8cf48a19d601",
      "cell_type": "markdown",
      "source": "- Create a Jupyter Notebook.\n- Add and format markdown cells (text, lists, tables, headings, bold text).\n- Write code for basic arithmetic operations.\n- Convert minutes into hours using code.\n- Share the notebook via GitHub.",
      "metadata": {}
    },
    {
      "id": "d271ad8a-f9bc-41a6-82bb-7fb21e5d1552",
      "cell_type": "markdown",
      "source": "<h2> 11. AUTHOR </h2>",
      "metadata": {}
    },
    {
      "id": "fe43663a-4b4b-4a29-900a-daa2bebf26aa",
      "cell_type": "markdown",
      "source": "Srilaya Sriraman",
      "metadata": {}
    }
  ]
}